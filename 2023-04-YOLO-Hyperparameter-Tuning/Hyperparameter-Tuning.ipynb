{
 "cells": [
  {
   "attachments": {},
   "cell_type": "markdown",
   "metadata": {},
   "source": [
    "# Hyperparameter Tuning YOLO\n",
    "\n",
    "YOLOv8 is the newest YOLO model that can be used for object detection, image classification and segmentation. YOLO stands for __You Only Look Once__ and is a series of models that are very popular and widely used within computer vision. YOLOv8 is known to often outperform it's competitors when it comes to prediction accuracy and speed.\n",
    "\n",
    "Hyperparameters are high-level parameters that influence the learning process during model training. It is an important step when building a machine learning model to find the optimal set of hyperparameters in order to produce the best possible predictions from a model. The process of finding these optimal values is called hyperparameter tuning. \n",
    "\n",
    "In this blog, we combine the popular object detection model YOLOv8 with AWS SageMaker's capabilities to find the optimal hyperparameter configuration."
   ]
  },
  {
   "cell_type": "code",
   "execution_count": null,
   "metadata": {},
   "outputs": [],
   "source": [
    "# importing the libraries\n",
    "\n",
    "import sagemaker\n",
    "\n",
    "from sagemaker import get_execution_role\n",
    "from sagemaker.estimator import Estimator\n",
    "from sagemaker.pytorch import PyTorch\n",
    "from sagemaker.tuner import CategoricalParameter, ContinuousParameter\n",
    "from sagemaker.tuner import HyperparameterTuner, HyperbandStrategyConfig, StrategyConfig\n",
    "from sagemaker.estimator import Estimator\n",
    "\n",
    "sagemaker_session = sagemaker.Session()\n",
    "role = get_execution_role()"
   ]
  },
  {
   "attachments": {},
   "cell_type": "markdown",
   "metadata": {},
   "source": [
    "SageMaker Estimators give a high-level interface for SageMaker training. Details can be found [here](https://sagemaker.readthedocs.io/en/stable/api/training/estimators.html)"
   ]
  },
  {
   "cell_type": "code",
   "execution_count": null,
   "metadata": {},
   "outputs": [],
   "source": [
    "# setting the metric definitions\n",
    "\n",
    "metric_definitions=[\n",
    "    {\n",
    "        \"Name\": \"precision\",\n",
    "        \"Regex\": \"YOLO Metric metrics/precision\\\\(B\\\\): (.*)\"\n",
    "    },\n",
    "    {\n",
    "        \"Name\": \"recall\",\n",
    "        \"Regex\": \"YOLO Metric metrics/recall\\\\(B\\\\): (.*)\"\n",
    "    },\n",
    "    {\n",
    "        \"Name\": \"mAP50\",\n",
    "        \"Regex\": \"YOLO Metric metrics/mAP50\\\\(B\\\\): (.*)\"\n",
    "    },\n",
    "    {\n",
    "        \"Name\": \"mAP50-95\",\n",
    "        \"Regex\": \"YOLO Metric metrics/mAP50-95\\\\(B\\\\): (.*)\"\n",
    "    },\n",
    "    {\n",
    "        \"Name\": \"box_loss\",\n",
    "        \"Regex\": \"YOLO Metric val/box_loss: (.*)\"\n",
    "    },\n",
    "    {\n",
    "        \"Name\": \"cls_loss\",\n",
    "        \"Regex\": \"YOLO Metric val/cls_loss: (.*)\"\n",
    "    },\n",
    "    {\n",
    "        \"Name\": \"dfl_loss\",\n",
    "        \"Regex\": \"YOLO Metric val/dfl_loss: (.*)\"\n",
    "    }\n",
    "]"
   ]
  },
  {
   "attachments": {},
   "cell_type": "markdown",
   "metadata": {},
   "source": [
    "We set up an estimator, this is where we give the model an entry point (the training module where the model is stored),\n",
    "\n",
    "For this example\n",
    "\n",
    " set the instance type, a max run time (timeout in seconds for training), after this time Amazon SageMaker terminates the job regardless of its current status. Any hyperparameters you want to have the same value for the whole of training jobs initialise the estimator with can be added here.\n",
    "\n",
    "The source dir needs to be the directory of which the train.py file is saved."
   ]
  },
  {
   "cell_type": "code",
   "execution_count": null,
   "metadata": {},
   "outputs": [],
   "source": [
    "estimator = PyTorch(\n",
    "    entry_point=\"train.py\",\n",
    "    role=role,\n",
    "    image_uri='your/image',  # your image\n",
    "    source_dir=\"./src\",\n",
    "    instance_count=1,\n",
    "    instance_type='ml.g4dn.xlarge',\n",
    "    framework_version=\"1.12.1\",\n",
    "    py_version=\"py38\",\n",
    "    sagemaker_session=sagemaker_session,\n",
    "    hyperparameters={},\n",
    "    use_spot_instances=True,\n",
    "    input_mode='File',  # FastFile causes a issue with writing label cache\n",
    "    debugger_hook_config=False,\n",
    "    max_wait=360000+3600,\n",
    "    max_run=360000,\n",
    "    output_path='path/to/output',\n",
    "    enable_sagemaker_metrics=True,\n",
    "    metric_definitions=metric_definitions,\n",
    ")"
   ]
  },
  {
   "attachments": {},
   "cell_type": "markdown",
   "metadata": {},
   "source": [
    "Once the estimator has been initialised, we can specify the hyperparameters you would like to tune and the possible ranges for their values. As an example, this blog shows a couple of hyperparameters you may want to tune when working with an object detection algorithm\n",
    "\n",
    "Categorical parameters, ContinuousParameters and IntegerParameters"
   ]
  },
  {
   "cell_type": "code",
   "execution_count": null,
   "metadata": {
    "vscode": {
     "languageId": "plaintext"
    }
   },
   "outputs": [],
   "source": [
    "hyperparameter_ranges={\n",
    "    'epochs':IntegerParameter(100, 300),\n",
    "    'optimizer':CategoricalParameter(['SGD', 'Adam', 'AdamW', 'RMSProp']),\n",
    "    'lr0': ContinuousParameter(0.00001, 0.01),\n",
    "    'lrf': ContinuousParameter(0.00001, 0.01),\n",
    "    'momentum': ContinuousParameter(0.9, 0.9999),\n",
    "    'weight_decay': ContinuousParameter(0.0003, 0.00099)\n",
    "}"
   ]
  },
  {
   "attachments": {},
   "cell_type": "markdown",
   "metadata": {},
   "source": [
    "Want to create a HyperparameterTuner which takes the following inputs:\n",
    "- the objecttive metric and definition \n",
    "    - here we have chosen to maximise the mean average precision mAP\n",
    "    - hyperparamete ranges\n",
    "    - the strategy\n"
   ]
  },
  {
   "cell_type": "code",
   "execution_count": null,
   "metadata": {
    "vscode": {
     "languageId": "plaintext"
    }
   },
   "outputs": [],
   "source": [
    "tuner = HyperparameterTuner(estimator, \n",
    "                            objective_metric_name=\"mAP50-95\", \n",
    "                            metric_definitions=metric_definitions, \n",
    "                            hyperparameter_ranges= hyperparameter_ranges, \n",
    "                            strategy='Hyperband',\n",
    "                            max_jobs=50,\n",
    "                            strategy_config = StrategyConfig(hyperband_strategy_config =HyperbandStrategyConfig(max_resource=10, min_resource = 1))\n",
    "                           )"
   ]
  },
  {
   "cell_type": "markdown",
   "metadata": {},
   "source": [
    "Want to fit the tuner by passing in the S3 paths to the training dat"
   ]
  },
  {
   "cell_type": "code",
   "execution_count": null,
   "metadata": {
    "vscode": {
     "languageId": "plaintext"
    }
   },
   "outputs": [],
   "source": [
    "tuner.fit('S3/path/to/training-data')"
   ]
  },
  {
   "attachments": {},
   "cell_type": "markdown",
   "metadata": {},
   "source": [
    "This starts up a hyperparameter tuning job"
   ]
  },
  {
   "cell_type": "markdown",
   "metadata": {},
   "source": []
  }
 ],
 "metadata": {
  "language_info": {
   "name": "python"
  },
  "orig_nbformat": 4
 },
 "nbformat": 4,
 "nbformat_minor": 2
}
