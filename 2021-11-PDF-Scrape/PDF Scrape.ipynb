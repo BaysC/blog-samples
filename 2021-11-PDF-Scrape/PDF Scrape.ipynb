{
 "cells": [
  {
   "cell_type": "markdown",
   "metadata": {},
   "source": [
    "# Converting a PDF to clean sentences using Python"
   ]
  },
  {
   "cell_type": "markdown",
   "metadata": {},
   "source": [
    "PDF files are all over the internet and often contain a lot of important information. However, extracting that information can sometimes seem an impossible task.\n",
    "\n",
    "In this blog we will learn how to extract the text from a PDF given __[here](https://assets.publishing.service.gov.uk/government/uploads/system/uploads/attachment_data/file/831734/smart-meter-policy-framework-post-2020-consultation.pdf)__ and print out clean sentences in a dataframe."
   ]
  },
  {
   "cell_type": "markdown",
   "metadata": {},
   "source": [
    "First we need to install the following libraries and packages, __note__ _pdfminer.six_ is the version of _pdfminer_ that has been used throughout this tutorial."
   ]
  },
  {
   "cell_type": "code",
   "execution_count": 6,
   "metadata": {},
   "outputs": [],
   "source": [
    "import pandas as pd\n",
    "import re\n",
    "\n",
    "from io import StringIO\n",
    "from typing import Iterable, Tuple, Optional\n",
    "from pdfminer.converter import TextConverter\n",
    "from pdfminer.pdfinterp import PDFResourceManager, PDFPageInterpreter\n",
    "from pdfminer.pdfpage import PDFPage"
   ]
  },
  {
   "cell_type": "code",
   "execution_count": 7,
   "metadata": {},
   "outputs": [],
   "source": [
    "file = \"C:\\\\Users\\\\HollyBays\\\\smart-meter-policy-framework-post-2020-consultation.pdf\""
   ]
  },
  {
   "cell_type": "markdown",
   "metadata": {},
   "source": [
    "The following function takes the filename as an argument and and iteratively yields sentence text back to the function caller.\n",
    "\n",
    "Sometimes PDFs are in a protected format and can cause problems when you are trying to scrape the text - setting the argument `check_extractable` to `False` enables you to overcome this."
   ]
  },
  {
   "cell_type": "code",
   "execution_count": 8,
   "metadata": {},
   "outputs": [],
   "source": [
    "def convert_pdf2txt(filename) -> Iterable[Tuple[str, str]]:\n",
    "    rsrcmgr = PDFResourceManager()\n",
    "\n",
    "    with open(filename, 'rb') as fp:\n",
    "        pages = PDFPage.get_pages(fp, check_extractable=False)\n",
    "\n",
    "        for page in pages:\n",
    "            with StringIO() as s:\n",
    "                with TextConverter(rsrcmgr, s) as device:\n",
    "                    PDFPageInterpreter(rsrcmgr, device).process_page(page)\n",
    "                \n",
    "                text = s.getvalue()\n",
    "\n",
    "            yield page.pageid, text\n"
   ]
  },
  {
   "cell_type": "markdown",
   "metadata": {},
   "source": [
    "Now, we can write a function which uses our `convert_pdf2txt` function and outputs a dataframe of cleaned sentences.\n",
    "\n",
    "Using the `enumerate` function indexes our tuple (page_id, page_text) to identify the page numbers of our PDF.\n",
    "\n",
    "To find the sentences we do a Regex Split `re.split()` this splits the string by the occurrences of the regex pattern. In our case, we are splitting the strings every time there is a full stop; unless that full stop appears within a decimal number. We are also splitting whenever we have two or more blank lines or when there is a bullet point.\n",
    "\n",
    "__Note:__ if you are unfamiliar with regex, you can practice writing regular expressions at https://regex101.com/.\n",
    "\n",
    "Once we have split up the text into sentences we now do a `re.sub()` which replaces one or many matches with a string in the given text. To make the sentences cleaner, we are replacing any amount of white space by a single space. We then use `.strip()` to remove the spaces at the beginning and end of the sentences.\n",
    "\n",
    "We append the sentence if there is more than one character within that sentence and if the sentences exist, we put them into a dataframe.\n"
   ]
  },
  {
   "cell_type": "code",
   "execution_count": 9,
   "metadata": {},
   "outputs": [],
   "source": [
    "def clean_sentences(pdf) -> Optional[pd.DataFrame]:\n",
    "    sentences = []\n",
    "\n",
    "    for page_num, (page_id, page_text) in enumerate(convert_pdf2txt(pdf)):\n",
    "        for sentence in re.split(\"[.](?![0-9])|\\\\n{2}|•\", page_text):\n",
    "            sentence_clean = re.sub('\\\\s+', ' ', sentence).strip()\n",
    "            if len(sentence_clean) > 1:\n",
    "                sentences.append({'sentence': sentence_clean, 'page_number': page_num + 1})\n",
    "\n",
    "    if len(sentences) > 0:\n",
    "        df = pd.DataFrame(sentences)\n",
    "        return df"
   ]
  },
  {
   "cell_type": "code",
   "execution_count": 10,
   "metadata": {},
   "outputs": [
    {
     "data": {
      "text/html": [
       "<div>\n",
       "<style scoped>\n",
       "    .dataframe tbody tr th:only-of-type {\n",
       "        vertical-align: middle;\n",
       "    }\n",
       "\n",
       "    .dataframe tbody tr th {\n",
       "        vertical-align: top;\n",
       "    }\n",
       "\n",
       "    .dataframe thead th {\n",
       "        text-align: right;\n",
       "    }\n",
       "</style>\n",
       "<table border=\"1\" class=\"dataframe\">\n",
       "  <thead>\n",
       "    <tr style=\"text-align: right;\">\n",
       "      <th></th>\n",
       "      <th>sentence</th>\n",
       "      <th>page_number</th>\n",
       "    </tr>\n",
       "  </thead>\n",
       "  <tbody>\n",
       "    <tr>\n",
       "      <th>0</th>\n",
       "      <td>September 2019 DELIVERING A SMART SYSTEM Consu...</td>\n",
       "      <td>1</td>\n",
       "    </tr>\n",
       "    <tr>\n",
       "      <th>1</th>\n",
       "      <td>© Crown copyright 2019 This publication is lic...</td>\n",
       "      <td>2</td>\n",
       "    </tr>\n",
       "    <tr>\n",
       "      <th>2</th>\n",
       "      <td>To view this licence, visit nationalarchives</td>\n",
       "      <td>2</td>\n",
       "    </tr>\n",
       "    <tr>\n",
       "      <th>3</th>\n",
       "      <td>gov</td>\n",
       "      <td>2</td>\n",
       "    </tr>\n",
       "    <tr>\n",
       "      <th>4</th>\n",
       "      <td>uk/doc/open-government-licence/version/3 or wr...</td>\n",
       "      <td>2</td>\n",
       "    </tr>\n",
       "    <tr>\n",
       "      <th>...</th>\n",
       "      <td>...</td>\n",
       "      <td>...</td>\n",
       "    </tr>\n",
       "    <tr>\n",
       "      <th>738</th>\n",
       "      <td>uk/government/consultations/smart-meter-policy...</td>\n",
       "      <td>41</td>\n",
       "    </tr>\n",
       "    <tr>\n",
       "      <th>739</th>\n",
       "      <td>gov</td>\n",
       "      <td>41</td>\n",
       "    </tr>\n",
       "    <tr>\n",
       "      <th>740</th>\n",
       "      <td>uk</td>\n",
       "      <td>41</td>\n",
       "    </tr>\n",
       "    <tr>\n",
       "      <th>741</th>\n",
       "      <td>Please tell us what format you need</td>\n",
       "      <td>41</td>\n",
       "    </tr>\n",
       "    <tr>\n",
       "      <th>742</th>\n",
       "      <td>It will help us if you say what assistive tech...</td>\n",
       "      <td>41</td>\n",
       "    </tr>\n",
       "  </tbody>\n",
       "</table>\n",
       "<p>743 rows × 2 columns</p>\n",
       "</div>"
      ],
      "text/plain": [
       "                                              sentence  page_number\n",
       "0    September 2019 DELIVERING A SMART SYSTEM Consu...            1\n",
       "1    © Crown copyright 2019 This publication is lic...            2\n",
       "2         To view this licence, visit nationalarchives            2\n",
       "3                                                  gov            2\n",
       "4    uk/doc/open-government-licence/version/3 or wr...            2\n",
       "..                                                 ...          ...\n",
       "738  uk/government/consultations/smart-meter-policy...           41\n",
       "739                                                gov           41\n",
       "740                                                 uk           41\n",
       "741                Please tell us what format you need           41\n",
       "742  It will help us if you say what assistive tech...           41\n",
       "\n",
       "[743 rows x 2 columns]"
      ]
     },
     "execution_count": 10,
     "metadata": {},
     "output_type": "execute_result"
    }
   ],
   "source": [
    "clean_sentences(file)"
   ]
  },
  {
   "cell_type": "markdown",
   "metadata": {},
   "source": [
    "Here we have all of the cleaned sentences from a PDF. This can make any analysis you want to perform on the document significantly easier!"
   ]
  },
  {
   "cell_type": "code",
   "execution_count": null,
   "metadata": {},
   "outputs": [],
   "source": []
  }
 ],
 "metadata": {
  "kernelspec": {
   "display_name": "Python 3",
   "language": "python",
   "name": "python3"
  },
  "language_info": {
   "codemirror_mode": {
    "name": "ipython",
    "version": 3
   },
   "file_extension": ".py",
   "mimetype": "text/x-python",
   "name": "python",
   "nbconvert_exporter": "python",
   "pygments_lexer": "ipython3",
   "version": "3.8.3"
  }
 },
 "nbformat": 4,
 "nbformat_minor": 4
}
