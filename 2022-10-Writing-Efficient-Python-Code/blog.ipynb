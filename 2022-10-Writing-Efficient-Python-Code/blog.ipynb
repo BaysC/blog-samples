{
 "cells": [
  {
   "cell_type": "markdown",
   "metadata": {},
   "source": [
    "### Loops I Did it Again - Avoiding for-loops with pandas and numpy"
   ]
  },
  {
   "cell_type": "markdown",
   "metadata": {},
   "source": [
    "Python is a very popular language amongst data scientists due to the extensive list of libraries available to us. The libraries `pandas` and `numpy` in particular are extremely useful when solving data science and machine learning problems. \n",
    "\n",
    "However, Python also comes with some disadvantages. As Python is an interpreted language (code is executed line-by-line) it is significantly slower than other languages; C and Java for example. With the rise of big data, more data is becoming available for data scientists to work with. This means it is important to find ways of keeping code as efficient as possible, thereby avoiding any unnecessary computation time. One way of doing this is by making use of the in-built optimised routines in `pandas` and `numpy`.\n",
    "\n",
    "Throughout this blog we will see different examples of Python code which will execute the same task, but with considerably different run times.\n"
   ]
  },
  {
   "cell_type": "code",
   "execution_count": 1,
   "metadata": {},
   "outputs": [],
   "source": [
    "import pandas as pd\n",
    "import numpy as np\n",
    "import warnings\n",
    "\n",
    "from timeit import Timer\n",
    "\n",
    "warnings.filterwarnings(\"ignore\")\n"
   ]
  },
  {
   "cell_type": "markdown",
   "metadata": {},
   "source": [
    "We will investigate four ways of calculating the total cost, when given a dataframe consisting of the following two columns:\n",
    "- the number of units \n",
    "- the price per unit\n",
    "\n",
    "We will randomly generate 10,000 integer values for each column using the `numpy.random` library for the purpose of this example. It is important to remember that in practice, data scientists tend to work with much larger datasets, often comprising millions of rows, which would make the following variations in performance even more dramatic."
   ]
  },
  {
   "cell_type": "code",
   "execution_count": 34,
   "metadata": {},
   "outputs": [
    {
     "data": {
      "text/html": [
       "<div>\n",
       "<style scoped>\n",
       "    .dataframe tbody tr th:only-of-type {\n",
       "        vertical-align: middle;\n",
       "    }\n",
       "\n",
       "    .dataframe tbody tr th {\n",
       "        vertical-align: top;\n",
       "    }\n",
       "\n",
       "    .dataframe thead th {\n",
       "        text-align: right;\n",
       "    }\n",
       "</style>\n",
       "<table border=\"1\" class=\"dataframe\">\n",
       "  <thead>\n",
       "    <tr style=\"text-align: right;\">\n",
       "      <th></th>\n",
       "      <th>number_of_units</th>\n",
       "      <th>price_per_unit</th>\n",
       "    </tr>\n",
       "  </thead>\n",
       "  <tbody>\n",
       "    <tr>\n",
       "      <th>0</th>\n",
       "      <td>51</td>\n",
       "      <td>793</td>\n",
       "    </tr>\n",
       "    <tr>\n",
       "      <th>1</th>\n",
       "      <td>87</td>\n",
       "      <td>530</td>\n",
       "    </tr>\n",
       "    <tr>\n",
       "      <th>2</th>\n",
       "      <td>71</td>\n",
       "      <td>795</td>\n",
       "    </tr>\n",
       "    <tr>\n",
       "      <th>3</th>\n",
       "      <td>64</td>\n",
       "      <td>693</td>\n",
       "    </tr>\n",
       "    <tr>\n",
       "      <th>4</th>\n",
       "      <td>94</td>\n",
       "      <td>976</td>\n",
       "    </tr>\n",
       "  </tbody>\n",
       "</table>\n",
       "</div>"
      ],
      "text/plain": [
       "   number_of_units  price_per_unit\n",
       "0               51             793\n",
       "1               87             530\n",
       "2               71             795\n",
       "3               64             693\n",
       "4               94             976"
      ]
     },
     "execution_count": 34,
     "metadata": {},
     "output_type": "execute_result"
    }
   ],
   "source": [
    "# setting the seed to ensure we get the same results\n",
    "np.random.seed(1000)\n",
    "\n",
    "# creating a dataframe with two columns and 10,000 rows, where the values have been randonly generated\n",
    "df = pd.DataFrame({'number_of_units':np.random.randint(0,100,size=10000),\n",
    "                    'price_per_unit':np.random.randint(0,1000,size=10000)})\n",
    "\n",
    "# printing out the top 5 rows of our dataframe\n",
    "df.head()"
   ]
  },
  {
   "cell_type": "markdown",
   "metadata": {},
   "source": [
    "We will write four different functions which all carry out the same task of calculating the total cost. These functions are as follows:\n",
    "1. calculating the total cost using a __for-loop__\n",
    "2. calculating the total cost using a __list comprehension__\n",
    "3. calculating the total cost making use of __vectorization__\n",
    "4. calculating the by using the __in-built `numpy` dot product__\n",
    "\n"
   ]
  },
  {
   "cell_type": "code",
   "execution_count": 35,
   "metadata": {},
   "outputs": [],
   "source": [
    "def for_loop():\n",
    "    df['cost_of_items'] = pd.Series()\n",
    "    for i in range(len(df)):\n",
    "        df['cost_of_items'].iloc[i] = df['price_per_unit'].iloc[i] * df['number_of_units'].iloc[i]\n",
    "        \n",
    "    total_cost = sum(df['cost_of_items'])\n",
    "    return total_cost\n",
    "\n",
    "\n",
    "def list_comprehension():\n",
    "    cost_of_items = [price*num for price, num in zip(df['price_per_unit'], df['number_of_units'])]\n",
    "    total_cost = sum(cost_of_items)\n",
    "    return total_cost\n",
    "\n",
    "\n",
    "def vectorized():\n",
    "    total_cost = sum(df['price_per_unit'] * df['number_of_units'])\n",
    "    return total_cost\n",
    "\n",
    "\n",
    "def dot_product():\n",
    "    total_cost = np.dot(df['price_per_unit'], df['number_of_units'])\n",
    "    return total_cost"
   ]
  },
  {
   "cell_type": "markdown",
   "metadata": {},
   "source": [
    "We can calculate the time it takes to execute each function once using the `timeit` library."
   ]
  },
  {
   "cell_type": "code",
   "execution_count": 36,
   "metadata": {},
   "outputs": [
    {
     "name": "stdout",
     "output_type": "stream",
     "text": [
      "Computation time is 148.951093500 using for-loop\n",
      "Computation time is 0.002266300 using comprehension for-loop\n",
      "Computation time is 0.000865100 using vectorization\n",
      "Computation time is 0.000057100 using numpy\n"
     ]
    }
   ],
   "source": [
    "computation_time_for_loop = Timer(for_loop).timeit(1)\n",
    "computation_time_list_comprehension = Timer(list_comprehension).timeit(1)\n",
    "computation_time_vectorized = Timer(vectorized).timeit(1)\n",
    "computation_time_dot_product = Timer(dot_product).timeit(1)\n",
    " \n",
    "print(\"Computation time is %0.9f using for-loop\"%computation_time_for_loop)\n",
    "print(\"Computation time is %0.9f using comprehension for-loop\"%computation_time_list_comprehension)\n",
    "print(\"Computation time is %0.9f using vectorization\"%computation_time_vectorized)\n",
    "print(\"Computation time is %0.9f using numpy\"%computation_time_dot_product)\n",
    "\n"
   ]
  },
  {
   "cell_type": "markdown",
   "metadata": {},
   "source": [
    "As expected, the for-loop took by far the most time with approximately 149 seconds! A for-loop can, and often is, replaced with a list comprehension and it can be seen through this example how valuable that can be; with the computation time going from 149 seconds down to roughly 0.002 seconds. \n",
    "\n",
    "For-loops are a good place to start, especially as a beginner, as they can be more intuitive and readable. However, by refactoring these into list comprehensions, your code suddenly becomes much more efficient and condensed down to one line.\n",
    "\n",
    "This example also shows that it is important to use vectorization when possible. We can see that the vectorized function is executed in less than half the time of a list comprehension. This might seem minor here, as we are considering computation times of less than a second, but when working with considerably more data, this change can go a long way. It is also worth noting that the code for the vectorized version is much closer to the plain mathematical statement of the problem.\n",
    "\n",
    "Most importantly, making use of the `numpy` package with the in-built vectorized operations, our code can become more than 15 times quicker than that! \n",
    "\n",
    "__In conclusion__, it is worth investing time in refactoring code. Making use of the in-built operations in the `numpy` library can improve the speed of the code by orders of magnitude. By doing this, not only are we speeding up our code, we are also writing much shorter pieces of code. This helps when it comes to finding bugs."
   ]
  }
 ],
 "metadata": {
  "kernelspec": {
   "display_name": "Python 3.9.12 ('base')",
   "language": "python",
   "name": "python3"
  },
  "language_info": {
   "codemirror_mode": {
    "name": "ipython",
    "version": 3
   },
   "file_extension": ".py",
   "mimetype": "text/x-python",
   "name": "python",
   "nbconvert_exporter": "python",
   "pygments_lexer": "ipython3",
   "version": "3.9.12"
  },
  "orig_nbformat": 4,
  "vscode": {
   "interpreter": {
    "hash": "c382ed3e7cda7418ca9f607a835062b674cf9a688a83675c50a5faa39b904d4c"
   }
  }
 },
 "nbformat": 4,
 "nbformat_minor": 2
}
