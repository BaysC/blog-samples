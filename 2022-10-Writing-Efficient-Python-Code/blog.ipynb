{
 "cells": [
  {
   "cell_type": "markdown",
   "metadata": {},
   "source": [
    "### Writing Efficient Python Code"
   ]
  },
  {
   "cell_type": "markdown",
   "metadata": {},
   "source": [
    "Python is a very popular language amongst data scientists due to the extensive list of libraries available to us. Pandas and Numpy inparticular are extremely useful at supporting data scientists to solve machine learning problems. \n",
    "\n",
    "However, Python also comes with it's own set of disadvantages. As Python is an interpreted language (code is executed line-by-line) it is significantly slower than it's counterlanguages; C and Java for example. With the rise of big data, more data is becoming available for data scientists to work with. Meaning it is important to find ways of keeping the code as efficient as possible and not carrying out any unneccessay computation time. One way of doing this is by avoiding for-loops. By making use of the inbuilt optimised routines, forcing all operations to be carried out in parallel can assist us in writing highly efficient code. Not only does this signficantly reduce the computation time, it in-turn reduces the amount of code. This making the code faster and much easier to check for bugs. Throughout this blog we will see different examples of python code which will execute the same task, but with considerably different run times.\n"
   ]
  },
  {
   "cell_type": "code",
   "execution_count": 1,
   "metadata": {},
   "outputs": [],
   "source": [
    "# importing the libraries\n",
    "import pandas as pd\n",
    "import numpy as np\n",
    "import random\n",
    "import warnings\n",
    "\n",
    "from timeit import Timer\n",
    "\n",
    "warnings.filterwarnings(\"ignore\")"
   ]
  },
  {
   "cell_type": "markdown",
   "metadata": {},
   "source": [
    "Throughout this blog, we will investigate four ways of calculating the total cost, when given a dataframe consisting of the following two columns:\n",
    "- the number of units \n",
    "- the price per unit\n",
    "\n",
    "We will randomly generate 10,000 integer values for each column using the `random` library for the purpose of this example. It is important to remember that in practice, data scientists tend to work with much larger datasets, often comprising millions of rows, which would make the following code even slower."
   ]
  },
  {
   "cell_type": "code",
   "execution_count": 76,
   "metadata": {},
   "outputs": [
    {
     "data": {
      "text/html": [
       "<div>\n",
       "<style scoped>\n",
       "    .dataframe tbody tr th:only-of-type {\n",
       "        vertical-align: middle;\n",
       "    }\n",
       "\n",
       "    .dataframe tbody tr th {\n",
       "        vertical-align: top;\n",
       "    }\n",
       "\n",
       "    .dataframe thead th {\n",
       "        text-align: right;\n",
       "    }\n",
       "</style>\n",
       "<table border=\"1\" class=\"dataframe\">\n",
       "  <thead>\n",
       "    <tr style=\"text-align: right;\">\n",
       "      <th></th>\n",
       "      <th>number_of_units</th>\n",
       "      <th>price_per_unit</th>\n",
       "    </tr>\n",
       "  </thead>\n",
       "  <tbody>\n",
       "    <tr>\n",
       "      <th>0</th>\n",
       "      <td>61</td>\n",
       "      <td>832</td>\n",
       "    </tr>\n",
       "    <tr>\n",
       "      <th>1</th>\n",
       "      <td>56</td>\n",
       "      <td>808</td>\n",
       "    </tr>\n",
       "    <tr>\n",
       "      <th>2</th>\n",
       "      <td>62</td>\n",
       "      <td>6</td>\n",
       "    </tr>\n",
       "    <tr>\n",
       "      <th>3</th>\n",
       "      <td>93</td>\n",
       "      <td>495</td>\n",
       "    </tr>\n",
       "    <tr>\n",
       "      <th>4</th>\n",
       "      <td>3</td>\n",
       "      <td>828</td>\n",
       "    </tr>\n",
       "  </tbody>\n",
       "</table>\n",
       "</div>"
      ],
      "text/plain": [
       "   number_of_units  price_per_unit\n",
       "0               61             832\n",
       "1               56             808\n",
       "2               62               6\n",
       "3               93             495\n",
       "4                3             828"
      ]
     },
     "execution_count": 76,
     "metadata": {},
     "output_type": "execute_result"
    }
   ],
   "source": [
    "# creating a dataframe with two columns and 10,000 rows, where the values have been randonly generated\n",
    "df = pd.DataFrame({'number_of_units':np.random.randint(0,100,size=10000),\n",
    "                    'price_per_unit':np.random.randint(0,1000,size=10000)})\n",
    "\n",
    "# printing out the top 5 rows of our dataframe\n",
    "df.head()"
   ]
  },
  {
   "cell_type": "markdown",
   "metadata": {},
   "source": [
    "We will write four different functions which all carry out the same task of calculating the total cost. These functions are as follows:\n",
    "1. calculating the total cost using a __for-loop__\n",
    "2. calculating the total cost using a __list comprehension__\n",
    "3. calculating the total cost making use of __vectorization__\n",
    "4. calculating the by using the __inbuilt `numpy` dot product__\n",
    "\n"
   ]
  },
  {
   "cell_type": "code",
   "execution_count": 80,
   "metadata": {},
   "outputs": [],
   "source": [
    "def for_loop():\n",
    "    df['cost_of_items'] = pd.Series()\n",
    "    for i in range(len(df)):\n",
    "        df['cost_of_items'].iloc[i] = df['price_per_unit'].iloc[i] * df['number_of_units'].iloc[i]\n",
    "        \n",
    "    total_cost = sum(df['cost_of_items'])\n",
    "    return total_cost\n",
    "\n",
    "\n",
    "def list_comprehension():\n",
    "    cost_of_items = [price*num for price, num in zip(df['price_per_unit'], df['number_of_units'])]\n",
    "    total_cost = sum(cost_of_items)\n",
    "    return total_cost\n",
    "\n",
    "\n",
    "def vectorized():\n",
    "    total_cost = sum(df['price_per_unit'] * df['number_of_units'])\n",
    "    return total_cost\n",
    "\n",
    "\n",
    "def dot_product():\n",
    "    total_cost = np.dot(df['price_per_unit'], df['number_of_units'])\n",
    "    return total_cost"
   ]
  },
  {
   "cell_type": "markdown",
   "metadata": {},
   "source": [
    "We can calculate the computation time for each function by using the `timeit` library. We have calculated how long it takes to execute each function once."
   ]
  },
  {
   "cell_type": "code",
   "execution_count": 81,
   "metadata": {},
   "outputs": [
    {
     "name": "stdout",
     "output_type": "stream",
     "text": [
      "Computation time is 167.691518600 using for-loop\n",
      "Computation time is 0.001933900 using comprehension for-loop\n",
      "Computation time is 0.000811400 using vectorization\n",
      "Computation time is 0.000053000 using numpy\n"
     ]
    }
   ],
   "source": [
    "computation_time_for_loop = Timer(for_loop).timeit(1)\n",
    "computation_time_list_comprehension = Timer(list_comprehension).timeit(1)\n",
    "computation_time_vectorized = Timer(vectorized).timeit(1)\n",
    "computation_time_dot_product = Timer(dot_product).timeit(1)\n",
    " \n",
    "print(\"Computation time is %0.9f using for-loop\"%computation_time_for_loop)\n",
    "print(\"Computation time is %0.9f using comprehension for-loop\"%computation_time_list_comprehension)\n",
    "print(\"Computation time is %0.9f using vectorization\"%computation_time_vectorized)\n",
    "print(\"Computation time is %0.9f using numpy\"%computation_time_dot_product)\n",
    "\n"
   ]
  },
  {
   "cell_type": "markdown",
   "metadata": {},
   "source": [
    "As expected, the for-loop took by far the most time with approximately 168 seconds! A for-loop can, and often is, replaced with a list comprehension and it can be seen through this example how valuable that can be; with the computation time going from 168 seconds to roughly 0.002 seconds. \n",
    "\n",
    "For-loops are a good place to start, especially as a beginner, as they can be more intuitive and readable. However, by refactoring these into list comprehensions, your code suddendly becomes much more efficient, shorter to write, and much easier to check for bugs.\n",
    "\n",
    "This example also shows that it is important to use vectorizaiton when possible. We can see that in this example, it is executed in half the time of a list comprehension, which may seem minor here, but when working with considerably more data, and having multiple operations to perform at once, this can make a lot of difference.\n",
    "\n",
    " But making use of the Numpy package with the vectorized operations, can become 15 times quicker than that! "
   ]
  },
  {
   "cell_type": "markdown",
   "metadata": {},
   "source": [
    "### Conculsion"
   ]
  },
  {
   "cell_type": "markdown",
   "metadata": {},
   "source": [
    "In conclusion, it is worth investing time in refactoring code to make it as efficient as possible. Making use of the inbuilt operations in the `Numpy` library can improve the speed of the code immeasurably. "
   ]
  }
 ],
 "metadata": {
  "kernelspec": {
   "display_name": "Python 3.9.12 ('base')",
   "language": "python",
   "name": "python3"
  },
  "language_info": {
   "codemirror_mode": {
    "name": "ipython",
    "version": 3
   },
   "file_extension": ".py",
   "mimetype": "text/x-python",
   "name": "python",
   "nbconvert_exporter": "python",
   "pygments_lexer": "ipython3",
   "version": "3.9.12"
  },
  "orig_nbformat": 4,
  "vscode": {
   "interpreter": {
    "hash": "c382ed3e7cda7418ca9f607a835062b674cf9a688a83675c50a5faa39b904d4c"
   }
  }
 },
 "nbformat": 4,
 "nbformat_minor": 2
}
