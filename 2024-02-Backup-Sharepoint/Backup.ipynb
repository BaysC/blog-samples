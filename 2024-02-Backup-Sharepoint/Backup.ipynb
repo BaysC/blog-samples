{
 "cells": [
  {
   "cell_type": "markdown",
   "metadata": {},
   "source": [
    "# Back it up, Back it in, let me begin - Automated backup of Microsoft SharePoint\n",
    "\n",
    "Even in the modern age of cloud computing, where companies routinely synchronise their data to cloud storage facilities, backups are important. Anyone who has been (un)fortunate enough to be involved with ISO27001 knows there are plenty of questions in it about backups, and the answer 'we're assuming AWS doesn't ever break or go out of business, and that none of our employees do anything silly' results in tooth-sucking from auditors.\n",
    "\n",
    "Most cloud providers offer their own backup offerings, providing redundancy for any data you have stored on their systems, but those of you who want to don the tin-foil-hat of a paranoid risk owner may wish to have another option.\n",
    "\n",
    "Cloud provders often offer migration services - how to get your on-premises or differently stored data ON to their systems, but don't so frequently offer systems to get it OFF as easily, and this can mean you are left with some repetitive clicking to do a monthly backup.\n",
    "\n",
    "But, computers were designed to do repetitive tasks to take the pain away from humans... so here is how we can use them to do an otherwise tedious backup to a local disk from Microsoft SharePoint.\n",
    "\n",
    "### Taking an automated Offline Backup of Multiple SharePoint Sites\n",
    "\n",
    "This blog focuses on how to use PowerShell to do an automated backup of multiple SharePoint sites.\n",
    "\n",
    "Backing up one SharePoint site is pretty simple, but if your organisation uses multiple sites to restrict access to project and shared files to those who need to know, following the principle of Least Privileges, then here is a way to overcome the repetitive task of logging into each site.\n",
    "\n",
    "### Requirements\n",
    "\n",
    "To follow the steps in this blog, you will need to have 'SharePoint Administrtor' rights available to you.\n",
    "You will also need to have PowerShell 7 installed - not the same as 'Windows Powershell' you will find in Windows, which is actually version 5.1."
   ]
  },
  {
   "cell_type": "markdown",
   "metadata": {},
   "source": [
    "### The Script\n",
    "\n",
    "Let's start scripting.\n",
    "\n",
    "Assuming you aren't the only person who can make SharePoint sites in your organisation, and assuming you can't remember them all, we are going to need to do some checks and loops to find them all.\n",
    "\n",
    "First, let's set up some basic variables and confirm that people are using the right version of PowerShell:"
   ]
  },
  {
   "cell_type": "markdown",
   "metadata": {},
   "source": [
    "# Initialisation"
   ]
  },
  {
   "cell_type": "code",
   "execution_count": null,
   "metadata": {
    "vscode": {
     "languageId": "powershell"
    }
   },
   "outputs": [],
   "source": [
    "# Set up some variables to get our script pointed in the right direction\n",
    "# This is all going to be written using Microsoft's favourite fake company, Contoso - change the relevant bits out to match your organisation's configuration.\n",
    "\n",
    "$SiteURL = \"https://contoso.sharepoint.com\" # Contoso's sharepoint Top Level Domain URL\n",
    "$LibraryURL = \"/Shared Documents\" # This is the common relative URL for the documents in SharePoint - just check your organisation's config matches this\n",
    "$DestinationFolder = \"D:\\Backup_Folder\" # Local download folder TLD, this script will go on to generate subfolders when it finds them\n",
    "\n",
    "# Let's also do a PowerShell version check, using the $PSVersionTable.PSVersion environment variable:\n",
    "Write-Host \"You are running PowerShell Version \" $PSVersionTable.PSVersion \". This script only runs on PS7 or later.\"\n",
    "\n",
    "# Let's do a version test on the first number of the version only (Major), or PowerShell gets a bit confused when doing a comparison. We need to make sure it is greater than or equal to 7:\n",
    "if($psVersionTable.PSVersion.Major -ge 7){\n",
    "    # If it is 7+, we can crack on\n",
    "    Write-Host \"Continuing Script...\"\n",
    "\n",
    "    # Bring in PnP module for PowerShell - we need this for some of the script later on\n",
    "    Import-Module -Name PnP.PowerShell\n",
    "\n",
    "    # Connect to Contoso's main area initially to get master site list - this will be an interactive logon with a popup\n",
    "    Connect-PnPOnline $SiteURL -Interactive\n",
    "\n",
    "    #Call our main function - which we will write next\n",
    "    BackupDownload\n",
    "}\n",
    "\n",
    "# If the system this is running on doesn't have PowerShell 7+, let's stop it now to prevent confusion and delay\n",
    "else{\n",
    "    Write-Host \"Exiting Script\"\n",
    "    exit\n",
    "}"
   ]
  },
  {
   "cell_type": "markdown",
   "metadata": {},
   "source": [
    "# The Main Backup Script\n",
    "\n",
    "We've checked we have the right version of PowerShell, and pointed the script to our Top Level Domain and logged in - now let's do some backing up\n",
    "\n",
    "Let's focus on the files and folders in the Top Level Domain and the 'top' of the Sites in your organisation first of all, not any subfolders:"
   ]
  },
  {
   "cell_type": "code",
   "execution_count": null,
   "metadata": {
    "vscode": {
     "languageId": "powershell"
    }
   },
   "outputs": [],
   "source": [
    "# Main function starts here\n",
    "Function BackupDownload(){\n",
    "    # Get Collection of all relevant SharePoint sites\n",
    "    $SiteList = Get-PnPTenantSite -Template GROUP#0 # This line returns a collection with a lot of info, we just need the URL\n",
    "    $UrlList = $SiteList.Url # This line creates an array of current site URLs in the Contoso SharePoint\n",
    "\n",
    "    $TestSiteURL = $URLList # This line can be changed to add in just one URL if you want to troubleshoot or just back up one site. Leaving it set to $URLList passes all sites to be backed up.\n",
    "    \n",
    "    # We are going to use a for loop to iterate over all the sites in our Top Level Domain (TLD)\n",
    "    foreach($Site in $TestSiteURL){\n",
    "        Write-Host -f Magenta \"Current site is '$Site'\" # I Like a lot of output in a terminal so I can see what is happening, delete this if you don't!\n",
    "\n",
    "        Connect-PnPOnline $Site -Interactive # Connect to that specific site\n",
    "        $LocalFolder = $DestinationFolder + ($Site.Replace($SiteURL,\"\") -replace \"/\",\"\\\") # Set local download folder to match current cloud directory name for ease\n",
    "        $LocalSDFolder = $LocalFolder + $LibraryURL # This line adds the generic folder name for 'Shared Documents' to your local folder\n",
    "\n",
    "        # Find all Files and Folders in current directory\n",
    "        $CurDirFiles = Get-PnPFolderItem -FolderSiteRelativeUrl $LibraryURL -ItemType File # List Files in Shared Documents of the current Site\n",
    "        $CurDirFolders = Get-PnPFolderItem -FolderSiteRelativeURL $LibraryURL -ItemType Folder # List Folders in Shared Documents of the current Site\n",
    "        \n",
    "        # Once again, I like output so I can see what is going on - these lines print the files and folders in the current area\n",
    "        Write-Host -f Yellow \"Files in the current directory:\"\n",
    "        foreach($file in $CurDirFiles){Write-Host \"`t$($file.Name)\"}\n",
    "        Write-Host -f Yellow \"Folders in the current directory:\"\n",
    "        foreach($folder in $CurDirFolders){Write-Host \"`t$($folder.Name)\"}\n",
    "\n",
    "        # Confirm folder exists in local area to download into - matches Shared Documents level of Site\n",
    "        # This if loop checks if we already have a folder in our local backup folder, and makes one if not\n",
    "        If($null -ne $CurDirFiles){ # only a relevant step at this stage if there are files in the top level, else will create in next step\n",
    "            If (!(Test-Path -Path $LocalSDFolder)) {\n",
    "                New-Item -ItemType Directory -Path $LocalSDFolder | Out-Null\n",
    "                Write-Host -f Yellow \"Created a New Folder '$LocalSDFolder'\"\n",
    "            }\n",
    "        }\n",
    "\n",
    "        # Download Files in the current site - we need a for loop to get them all\n",
    "        foreach($File in $CurDirFiles){\n",
    "            Get-PnPFile -ServerRelativeUrl $File.ServerRelativeUrl -Path $LocalSDFolder -FileName $File.Name -AsFile # LocalFolder works as directory only for the TLD\n",
    "            Write-Host -f Green \"`tDownloaded File from '$($File.ServerRelativeUrl)' to $LocalSDFolder\"\n",
    "        }\n",
    "\n",
    "        #Set the current folder as the 'relative folder' we are about to pass to the subfolder part of the script\n",
    "        $RelativeFolder = $LibraryURL\n",
    "        \n",
    "        # Call 'subfolder hunter' function to find files and folders in the subfolders of your sites\n",
    "        # NB in PowerShell you cannot pass an array of objects to a function, so loops must exist before the function\n",
    "        foreach($folder in $CurDirFolders){\n",
    "            subfolderhunter $folder.Name $RelativeFolder $folder.ServerRelativeUrl # Remember you pass PowerShell arguments with a space, not comma, and no brackets\n",
    "        }\n",
    "    }\n",
    "}"
   ]
  },
  {
   "cell_type": "markdown",
   "metadata": {},
   "source": [
    "# Subfolder Hunter\n",
    "\n",
    "The code above will download the files in the top levels of the sites in your organisation, and tell you what folders are in them. However, we are going to need to dig deeper to get the files and folders in the subfolders of your sites.\n",
    "\n",
    "Thanks to a quirk of PowerShell meaning it doesn't let you pass an array of objects into a function we have to do this in two steps. On to the next step, the subfolder hunter, which will essentially do what we have just done - but down a level, and onwards to the bottom of your file structure!"
   ]
  },
  {
   "cell_type": "code",
   "execution_count": null,
   "metadata": {
    "vscode": {
     "languageId": "powershell"
    }
   },
   "outputs": [],
   "source": [
    "# Function to look in subfolders of top levels of sites\n",
    "\n",
    "# We are passing in to the function the name of the folder we want to backup, its relative location from the top level (probably /Shared Documents/folder), and its server relative URL\n",
    "function subfolderhunter($folder, $RelFolder, $SRU){\n",
    "\n",
    "    # Set working subdirectory\n",
    "    $WorkingSubdir = $($RelFolder + \"/\" + $folder)\n",
    "    Write-Host -f Cyan \"Current Working Folder is \" $WorkingSubdir\n",
    "    \n",
    "    # Create subfolder in our backup location if it doesn't already exist\n",
    "    $CurSaveFold = $DestinationFolder + ($SRU -replace \"/\",\"\\\")\n",
    "\n",
    "    If (!(Test-Path -Path $CurSaveFold)) {\n",
    "        New-Item -ItemType Directory -Path $CurSaveFold | Out-Null\n",
    "        Write-Host -f Yellow \"Created a New Folder '$CurSaveFold'\"\n",
    "    }\n",
    "\n",
    "    # Get list of files in current subfolder\n",
    "    $SubDirFiles = Get-PnPFolderItem -FolderSiteRelativeUrl $WorkingSubdir -ItemType File\n",
    "    $SubDirFolders = Get-PnPFolderItem -FolderSiteRelativeUrl $WorkingSubdir -ItemType Folder\n",
    "\n",
    "    # Print to the terminal the names of the files and folders, for those who like output\n",
    "    Write-Host -f Yellow \"Files in the current subdirectory:\"\n",
    "    foreach($file in $SubDirFiles){Write-Host \"`t$($file.Name)\"}\n",
    "    Write-Host -f Yellow \"Folders in the current subdirectory:\"\n",
    "    foreach($folder in $SubDirFolders){Write-Host \"`t$($folder.Name)\"}\n",
    "\n",
    "    # Download Files in Current directory\n",
    "    foreach($File in $SubDirFiles){\n",
    "        Get-PnPFile -ServerRelativeUrl $File.ServerRelativeUrl -Path $CurSaveFold -FileName $File.Name -AsFile\n",
    "        Write-Host -f Green \"`tDownloaded File from '$($File.ServerRelativeUrl)' to $CurSaveFold\"\n",
    "    }\n",
    "\n",
    "    # Recursively call this subfolder hunter on found folders in the subfolders\n",
    "    foreach($folder in $SubDirFolders){\n",
    "        subfolderhunter $folder.Name $WorkingSubdir $folder.ServerRelativeUrl\n",
    "    }\n",
    "}"
   ]
  },
  {
   "cell_type": "markdown",
   "metadata": {},
   "source": [
    "# Conclusion\n",
    "\n",
    "That's it. \n",
    "One little bit of script to initialise your locations, and check PowerShell versions.\n",
    "One bit of script to list the files and folders in the top levels of the sites in your organisation.\n",
    "One bit of script to then dig around in the subfolders and download all the files in there.\n",
    "\n",
    "Bolt these parts together in one script and set it running in the background, and you can cheerfully answer emails while preparing for the cloud crash apocalypse.\n",
    "\n",
    "Hopefully this will reduce the time it takes you to back things up, and mean you can willingly do it more frequently!"
   ]
  }
 ],
 "metadata": {
  "language_info": {
   "name": "python"
  }
 },
 "nbformat": 4,
 "nbformat_minor": 2
}
