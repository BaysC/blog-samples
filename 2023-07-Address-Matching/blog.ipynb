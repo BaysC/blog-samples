{
 "cells": [
  {
   "attachments": {},
   "cell_type": "markdown",
   "metadata": {},
   "source": [
    "# Address Matching\n",
    "\n",
    "If you ask any Data Scientist, they will tell you that the majority of their \n",
    "time spent at work is cleaning messy data. \n",
    "Data comes in countless forms so getting it into a practical format can be\n",
    "tricky and time-consuming.\n",
    "\n",
    "One of the most challenging types of data to work with can be Address Data.\n",
    "Unforunately for us, there is no correct way to write an address. \n",
    "This results in addresses being very inconsistent, for example:\n",
    "- A flat could be called a flat, an apartment or a studio\n",
    "- We could have the same address but one source has it listen as Ground Floor \n",
    "Flat whereas another source has it as Flat 1\n",
    "- A Postcode could be written with or without the space in the centre\n",
    "\n",
    "... and the list goes on!\n",
    "\n",
    "This tutorial focuses on matching UK Address Data. We will generate an\n",
    "example dataset using the `Faker` Python package and perform some simple\n",
    "data cleaning steps that could help match the addresses.\n",
    "We will also investigate the use of the `difflib` Python module which searches for\n",
    "close matches.\n",
    "\n",
    "The `Faker` package, installed and imported below, is a Python package that generates fake data. "
   ]
  },
  {
   "cell_type": "code",
   "execution_count": 1,
   "metadata": {},
   "outputs": [],
   "source": [
    "! pip install faker"
   ]
  },
  {
   "cell_type": "code",
   "execution_count": 2,
   "metadata": {},
   "outputs": [],
   "source": [
    "# importing libraries\n",
    "import pandas as pd\n",
    "import difflib\n",
    "\n",
    "from faker import Faker"
   ]
  },
  {
   "attachments": {},
   "cell_type": "markdown",
   "metadata": {},
   "source": [
    "Below, we create a DataFrame that consists of 25 fake addresses."
   ]
  },
  {
   "cell_type": "code",
   "execution_count": 3,
   "metadata": {},
   "outputs": [],
   "source": [
    "\n",
    "# want to generate Great British addresses\n",
    "fake = Faker(\"en_GB\")\n",
    "\n",
    "# setting seed \n",
    "Faker.seed(1234)\n",
    "\n",
    "addresses = [fake.address() for _ in range(25)]\n",
    "addresses = [address.replace('\\n', ', ') for address in addresses]\n",
    "\n",
    "df = pd.DataFrame({'address': addresses})"
   ]
  },
  {
   "cell_type": "code",
   "execution_count": 4,
   "metadata": {},
   "outputs": [
    {
     "data": {
      "text/html": [
       "<div>\n",
       "<style scoped>\n",
       "    .dataframe tbody tr th:only-of-type {\n",
       "        vertical-align: middle;\n",
       "    }\n",
       "\n",
       "    .dataframe tbody tr th {\n",
       "        vertical-align: top;\n",
       "    }\n",
       "\n",
       "    .dataframe thead th {\n",
       "        text-align: right;\n",
       "    }\n",
       "</style>\n",
       "<table border=\"1\" class=\"dataframe\">\n",
       "  <thead>\n",
       "    <tr style=\"text-align: right;\">\n",
       "      <th></th>\n",
       "      <th>address</th>\n",
       "    </tr>\n",
       "  </thead>\n",
       "  <tbody>\n",
       "    <tr>\n",
       "      <th>0</th>\n",
       "      <td>1 Vanessa square, North Owenbury, B0 9UZ</td>\n",
       "    </tr>\n",
       "    <tr>\n",
       "      <th>1</th>\n",
       "      <td>2 Stephen parkway, Shawbury, W1 8YB</td>\n",
       "    </tr>\n",
       "    <tr>\n",
       "      <th>2</th>\n",
       "      <td>475 Smith flats, Hawkinstown, E0F 7RG</td>\n",
       "    </tr>\n",
       "    <tr>\n",
       "      <th>3</th>\n",
       "      <td>721 Gareth burg, Jamiehaven, M70 4BG</td>\n",
       "    </tr>\n",
       "    <tr>\n",
       "      <th>4</th>\n",
       "      <td>27 Lynne lights, Oliviamouth, W7A 9GT</td>\n",
       "    </tr>\n",
       "  </tbody>\n",
       "</table>\n",
       "</div>"
      ],
      "text/plain": [
       "                                    address\n",
       "0  1 Vanessa square, North Owenbury, B0 9UZ\n",
       "1       2 Stephen parkway, Shawbury, W1 8YB\n",
       "2     475 Smith flats, Hawkinstown, E0F 7RG\n",
       "3      721 Gareth burg, Jamiehaven, M70 4BG\n",
       "4     27 Lynne lights, Oliviamouth, W7A 9GT"
      ]
     },
     "execution_count": 4,
     "metadata": {},
     "output_type": "execute_result"
    }
   ],
   "source": [
    "# outputting first five rows of df\n",
    "df.head()"
   ]
  },
  {
   "attachments": {},
   "cell_type": "markdown",
   "metadata": {},
   "source": [
    "Saving above DataFrame to `.csv`"
   ]
  },
  {
   "cell_type": "code",
   "execution_count": 5,
   "metadata": {},
   "outputs": [],
   "source": [
    "df.to_csv('fake_addresses.csv', index=False)"
   ]
  },
  {
   "attachments": {},
   "cell_type": "markdown",
   "metadata": {},
   "source": [
    "__Note:__ For example purposes, an additional `.csv` that includes the same addresses with some formatting changes has been created. This can be seen below where _1 Vanessa square, North Owenbury, B0 9UZ_ has changed to lower case."
   ]
  },
  {
   "cell_type": "code",
   "execution_count": 6,
   "metadata": {},
   "outputs": [
    {
     "data": {
      "text/html": [
       "<div>\n",
       "<style scoped>\n",
       "    .dataframe tbody tr th:only-of-type {\n",
       "        vertical-align: middle;\n",
       "    }\n",
       "\n",
       "    .dataframe tbody tr th {\n",
       "        vertical-align: top;\n",
       "    }\n",
       "\n",
       "    .dataframe thead th {\n",
       "        text-align: right;\n",
       "    }\n",
       "</style>\n",
       "<table border=\"1\" class=\"dataframe\">\n",
       "  <thead>\n",
       "    <tr style=\"text-align: right;\">\n",
       "      <th></th>\n",
       "      <th>address_2</th>\n",
       "    </tr>\n",
       "  </thead>\n",
       "  <tbody>\n",
       "    <tr>\n",
       "      <th>0</th>\n",
       "      <td>1 vanessa square, north owenbury, b0 9uz</td>\n",
       "    </tr>\n",
       "    <tr>\n",
       "      <th>1</th>\n",
       "      <td>2 Stephen parkway, Shawbury, W1 8YB</td>\n",
       "    </tr>\n",
       "    <tr>\n",
       "      <th>2</th>\n",
       "      <td>475 Smith flats, Hawkinstown, E0F 7RG</td>\n",
       "    </tr>\n",
       "    <tr>\n",
       "      <th>3</th>\n",
       "      <td>721 Gareth burg, Jamiehaven, M70 4BG</td>\n",
       "    </tr>\n",
       "    <tr>\n",
       "      <th>4</th>\n",
       "      <td>27 Lynne lights, Oliviamouth, W7A 9GT</td>\n",
       "    </tr>\n",
       "  </tbody>\n",
       "</table>\n",
       "</div>"
      ],
      "text/plain": [
       "                                  address_2\n",
       "0  1 vanessa square, north owenbury, b0 9uz\n",
       "1       2 Stephen parkway, Shawbury, W1 8YB\n",
       "2     475 Smith flats, Hawkinstown, E0F 7RG\n",
       "3      721 Gareth burg, Jamiehaven, M70 4BG\n",
       "4     27 Lynne lights, Oliviamouth, W7A 9GT"
      ]
     },
     "execution_count": 6,
     "metadata": {},
     "output_type": "execute_result"
    }
   ],
   "source": [
    "# outputting first five rows of df_2\n",
    "df_2 = pd.read_csv('fake_addresses_2.csv')\n",
    "df_2.head()"
   ]
  },
  {
   "attachments": {},
   "cell_type": "markdown",
   "metadata": {},
   "source": [
    "Firstly, We can do a direct merge to see how many addresses match up exactly."
   ]
  },
  {
   "cell_type": "code",
   "execution_count": 7,
   "metadata": {},
   "outputs": [
    {
     "data": {
      "text/html": [
       "<div>\n",
       "<style scoped>\n",
       "    .dataframe tbody tr th:only-of-type {\n",
       "        vertical-align: middle;\n",
       "    }\n",
       "\n",
       "    .dataframe tbody tr th {\n",
       "        vertical-align: top;\n",
       "    }\n",
       "\n",
       "    .dataframe thead th {\n",
       "        text-align: right;\n",
       "    }\n",
       "</style>\n",
       "<table border=\"1\" class=\"dataframe\">\n",
       "  <thead>\n",
       "    <tr style=\"text-align: right;\">\n",
       "      <th></th>\n",
       "      <th>address</th>\n",
       "      <th>address_2</th>\n",
       "    </tr>\n",
       "  </thead>\n",
       "  <tbody>\n",
       "    <tr>\n",
       "      <th>0</th>\n",
       "      <td>1 Vanessa square, North Owenbury, B0 9UZ</td>\n",
       "      <td>NaN</td>\n",
       "    </tr>\n",
       "    <tr>\n",
       "      <th>1</th>\n",
       "      <td>2 Stephen parkway, Shawbury, W1 8YB</td>\n",
       "      <td>2 Stephen parkway, Shawbury, W1 8YB</td>\n",
       "    </tr>\n",
       "    <tr>\n",
       "      <th>2</th>\n",
       "      <td>475 Smith flats, Hawkinstown, E0F 7RG</td>\n",
       "      <td>475 Smith flats, Hawkinstown, E0F 7RG</td>\n",
       "    </tr>\n",
       "    <tr>\n",
       "      <th>3</th>\n",
       "      <td>721 Gareth burg, Jamiehaven, M70 4BG</td>\n",
       "      <td>721 Gareth burg, Jamiehaven, M70 4BG</td>\n",
       "    </tr>\n",
       "    <tr>\n",
       "      <th>4</th>\n",
       "      <td>27 Lynne lights, Oliviamouth, W7A 9GT</td>\n",
       "      <td>27 Lynne lights, Oliviamouth, W7A 9GT</td>\n",
       "    </tr>\n",
       "  </tbody>\n",
       "</table>\n",
       "</div>"
      ],
      "text/plain": [
       "                                    address   \n",
       "0  1 Vanessa square, North Owenbury, B0 9UZ  \\\n",
       "1       2 Stephen parkway, Shawbury, W1 8YB   \n",
       "2     475 Smith flats, Hawkinstown, E0F 7RG   \n",
       "3      721 Gareth burg, Jamiehaven, M70 4BG   \n",
       "4     27 Lynne lights, Oliviamouth, W7A 9GT   \n",
       "\n",
       "                               address_2  \n",
       "0                                    NaN  \n",
       "1    2 Stephen parkway, Shawbury, W1 8YB  \n",
       "2  475 Smith flats, Hawkinstown, E0F 7RG  \n",
       "3   721 Gareth burg, Jamiehaven, M70 4BG  \n",
       "4  27 Lynne lights, Oliviamouth, W7A 9GT  "
      ]
     },
     "execution_count": 7,
     "metadata": {},
     "output_type": "execute_result"
    }
   ],
   "source": [
    "df_merged = df.merge(df_2, left_on='address', \n",
    "                                   right_on='address_2', how='left')\n",
    "\n",
    "df_merged.head()"
   ]
  },
  {
   "attachments": {},
   "cell_type": "markdown",
   "metadata": {},
   "source": [
    "As we saw above, the first address will not match exactly due to the second address now being lower case.\n",
    "\n",
    "Let's sum our matched addresses:"
   ]
  },
  {
   "cell_type": "code",
   "execution_count": 8,
   "metadata": {},
   "outputs": [
    {
     "data": {
      "text/plain": [
       "9"
      ]
     },
     "execution_count": 8,
     "metadata": {},
     "output_type": "execute_result"
    }
   ],
   "source": [
    "df_merged['address_2'].notna().sum()"
   ]
  },
  {
   "attachments": {},
   "cell_type": "markdown",
   "metadata": {},
   "source": [
    "So, from a direct merge with no cleaning, we manage to match __9__ of the __25__ addresses.\n",
    "\n",
    "To try and improve our number of matches, we can do some simple cleaning steps to the addresses.\n",
    "This includes removing punctation and common words such as __the__.\n",
    "We can also make the addresses more consistent by changing all the case to upper case.\n",
    "This is performed in the function below:"
   ]
  },
  {
   "cell_type": "code",
   "execution_count": 9,
   "metadata": {},
   "outputs": [],
   "source": [
    "def tidy_address(df: pd.DataFrame, col: str) -> pd.Series:\n",
    "    \"\"\"Takes in column of DataFrame and performs cleaning steps.\n",
    "\n",
    "    Args:\n",
    "        df: DataFrame\n",
    "        col: column of DataFrame to clean\n",
    "\n",
    "    Returns:\n",
    "        clean_address: cleaned column\n",
    "    \"\"\"\n",
    "    \n",
    "    clean_address = df[col].str.replace(',','')\\\n",
    "    .str.replace(' ','')\\\n",
    "    .str.upper()\\\n",
    "    .str.replace('THE','')\\\n",
    "    .str.replace('.','')\\\n",
    "    \n",
    "    return clean_address"
   ]
  },
  {
   "attachments": {},
   "cell_type": "markdown",
   "metadata": {},
   "source": [
    "By carrying out this cleaning step,\n",
    "we can add a column to the original DataFrames of the cleaned addresses.\n",
    "\n",
    "Examples shown below."
   ]
  },
  {
   "cell_type": "code",
   "execution_count": 10,
   "metadata": {},
   "outputs": [
    {
     "data": {
      "text/html": [
       "<div>\n",
       "<style scoped>\n",
       "    .dataframe tbody tr th:only-of-type {\n",
       "        vertical-align: middle;\n",
       "    }\n",
       "\n",
       "    .dataframe tbody tr th {\n",
       "        vertical-align: top;\n",
       "    }\n",
       "\n",
       "    .dataframe thead th {\n",
       "        text-align: right;\n",
       "    }\n",
       "</style>\n",
       "<table border=\"1\" class=\"dataframe\">\n",
       "  <thead>\n",
       "    <tr style=\"text-align: right;\">\n",
       "      <th></th>\n",
       "      <th>address</th>\n",
       "      <th>clean_address</th>\n",
       "    </tr>\n",
       "  </thead>\n",
       "  <tbody>\n",
       "    <tr>\n",
       "      <th>0</th>\n",
       "      <td>1 Vanessa square, North Owenbury, B0 9UZ</td>\n",
       "      <td>1VANESSASQUARENORTHOWENBURYB09UZ</td>\n",
       "    </tr>\n",
       "    <tr>\n",
       "      <th>1</th>\n",
       "      <td>2 Stephen parkway, Shawbury, W1 8YB</td>\n",
       "      <td>2STEPHENPARKWAYSHAWBURYW18YB</td>\n",
       "    </tr>\n",
       "    <tr>\n",
       "      <th>2</th>\n",
       "      <td>475 Smith flats, Hawkinstown, E0F 7RG</td>\n",
       "      <td>475SMITHFLATSHAWKINSTOWNE0F7RG</td>\n",
       "    </tr>\n",
       "    <tr>\n",
       "      <th>3</th>\n",
       "      <td>721 Gareth burg, Jamiehaven, M70 4BG</td>\n",
       "      <td>721GARETHBURGJAMIEHAVENM704BG</td>\n",
       "    </tr>\n",
       "    <tr>\n",
       "      <th>4</th>\n",
       "      <td>27 Lynne lights, Oliviamouth, W7A 9GT</td>\n",
       "      <td>27LYNNELIGHTSOLIVIAMOUTHW7A9GT</td>\n",
       "    </tr>\n",
       "  </tbody>\n",
       "</table>\n",
       "</div>"
      ],
      "text/plain": [
       "                                    address                     clean_address\n",
       "0  1 Vanessa square, North Owenbury, B0 9UZ  1VANESSASQUARENORTHOWENBURYB09UZ\n",
       "1       2 Stephen parkway, Shawbury, W1 8YB      2STEPHENPARKWAYSHAWBURYW18YB\n",
       "2     475 Smith flats, Hawkinstown, E0F 7RG    475SMITHFLATSHAWKINSTOWNE0F7RG\n",
       "3      721 Gareth burg, Jamiehaven, M70 4BG     721GARETHBURGJAMIEHAVENM704BG\n",
       "4     27 Lynne lights, Oliviamouth, W7A 9GT    27LYNNELIGHTSOLIVIAMOUTHW7A9GT"
      ]
     },
     "execution_count": 10,
     "metadata": {},
     "output_type": "execute_result"
    }
   ],
   "source": [
    "df['clean_address'] = tidy_address(df, 'address')\n",
    "df_2['clean_address_2'] = tidy_address(df_2, 'address_2')\n",
    "\n",
    "df.head()"
   ]
  },
  {
   "cell_type": "code",
   "execution_count": 11,
   "metadata": {},
   "outputs": [
    {
     "data": {
      "text/html": [
       "<div>\n",
       "<style scoped>\n",
       "    .dataframe tbody tr th:only-of-type {\n",
       "        vertical-align: middle;\n",
       "    }\n",
       "\n",
       "    .dataframe tbody tr th {\n",
       "        vertical-align: top;\n",
       "    }\n",
       "\n",
       "    .dataframe thead th {\n",
       "        text-align: right;\n",
       "    }\n",
       "</style>\n",
       "<table border=\"1\" class=\"dataframe\">\n",
       "  <thead>\n",
       "    <tr style=\"text-align: right;\">\n",
       "      <th></th>\n",
       "      <th>address_2</th>\n",
       "      <th>clean_address_2</th>\n",
       "    </tr>\n",
       "  </thead>\n",
       "  <tbody>\n",
       "    <tr>\n",
       "      <th>0</th>\n",
       "      <td>1 vanessa square, north owenbury, b0 9uz</td>\n",
       "      <td>1VANESSASQUARENORTHOWENBURYB09UZ</td>\n",
       "    </tr>\n",
       "    <tr>\n",
       "      <th>1</th>\n",
       "      <td>2 Stephen parkway, Shawbury, W1 8YB</td>\n",
       "      <td>2STEPHENPARKWAYSHAWBURYW18YB</td>\n",
       "    </tr>\n",
       "    <tr>\n",
       "      <th>2</th>\n",
       "      <td>475 Smith flats, Hawkinstown, E0F 7RG</td>\n",
       "      <td>475SMITHFLATSHAWKINSTOWNE0F7RG</td>\n",
       "    </tr>\n",
       "    <tr>\n",
       "      <th>3</th>\n",
       "      <td>721 Gareth burg, Jamiehaven, M70 4BG</td>\n",
       "      <td>721GARETHBURGJAMIEHAVENM704BG</td>\n",
       "    </tr>\n",
       "    <tr>\n",
       "      <th>4</th>\n",
       "      <td>27 Lynne lights, Oliviamouth, W7A 9GT</td>\n",
       "      <td>27LYNNELIGHTSOLIVIAMOUTHW7A9GT</td>\n",
       "    </tr>\n",
       "  </tbody>\n",
       "</table>\n",
       "</div>"
      ],
      "text/plain": [
       "                                  address_2                   clean_address_2\n",
       "0  1 vanessa square, north owenbury, b0 9uz  1VANESSASQUARENORTHOWENBURYB09UZ\n",
       "1       2 Stephen parkway, Shawbury, W1 8YB      2STEPHENPARKWAYSHAWBURYW18YB\n",
       "2     475 Smith flats, Hawkinstown, E0F 7RG    475SMITHFLATSHAWKINSTOWNE0F7RG\n",
       "3      721 Gareth burg, Jamiehaven, M70 4BG     721GARETHBURGJAMIEHAVENM704BG\n",
       "4     27 Lynne lights, Oliviamouth, W7A 9GT    27LYNNELIGHTSOLIVIAMOUTHW7A9GT"
      ]
     },
     "execution_count": 11,
     "metadata": {},
     "output_type": "execute_result"
    }
   ],
   "source": [
    "df_2.head()"
   ]
  },
  {
   "attachments": {},
   "cell_type": "markdown",
   "metadata": {},
   "source": [
    "Now, merging these tables together on the clean addresses, we can see how our number of matches have changed."
   ]
  },
  {
   "cell_type": "code",
   "execution_count": 12,
   "metadata": {},
   "outputs": [
    {
     "data": {
      "text/html": [
       "<div>\n",
       "<style scoped>\n",
       "    .dataframe tbody tr th:only-of-type {\n",
       "        vertical-align: middle;\n",
       "    }\n",
       "\n",
       "    .dataframe tbody tr th {\n",
       "        vertical-align: top;\n",
       "    }\n",
       "\n",
       "    .dataframe thead th {\n",
       "        text-align: right;\n",
       "    }\n",
       "</style>\n",
       "<table border=\"1\" class=\"dataframe\">\n",
       "  <thead>\n",
       "    <tr style=\"text-align: right;\">\n",
       "      <th></th>\n",
       "      <th>address</th>\n",
       "      <th>clean_address</th>\n",
       "      <th>address_2</th>\n",
       "      <th>clean_address_2</th>\n",
       "    </tr>\n",
       "  </thead>\n",
       "  <tbody>\n",
       "    <tr>\n",
       "      <th>0</th>\n",
       "      <td>1 Vanessa square, North Owenbury, B0 9UZ</td>\n",
       "      <td>1VANESSASQUARENORTHOWENBURYB09UZ</td>\n",
       "      <td>1 vanessa square, north owenbury, b0 9uz</td>\n",
       "      <td>1VANESSASQUARENORTHOWENBURYB09UZ</td>\n",
       "    </tr>\n",
       "    <tr>\n",
       "      <th>1</th>\n",
       "      <td>2 Stephen parkway, Shawbury, W1 8YB</td>\n",
       "      <td>2STEPHENPARKWAYSHAWBURYW18YB</td>\n",
       "      <td>2 Stephen parkway, Shawbury, W1 8YB</td>\n",
       "      <td>2STEPHENPARKWAYSHAWBURYW18YB</td>\n",
       "    </tr>\n",
       "    <tr>\n",
       "      <th>2</th>\n",
       "      <td>475 Smith flats, Hawkinstown, E0F 7RG</td>\n",
       "      <td>475SMITHFLATSHAWKINSTOWNE0F7RG</td>\n",
       "      <td>475 Smith flats, Hawkinstown, E0F 7RG</td>\n",
       "      <td>475SMITHFLATSHAWKINSTOWNE0F7RG</td>\n",
       "    </tr>\n",
       "    <tr>\n",
       "      <th>3</th>\n",
       "      <td>721 Gareth burg, Jamiehaven, M70 4BG</td>\n",
       "      <td>721GARETHBURGJAMIEHAVENM704BG</td>\n",
       "      <td>721 Gareth burg, Jamiehaven, M70 4BG</td>\n",
       "      <td>721GARETHBURGJAMIEHAVENM704BG</td>\n",
       "    </tr>\n",
       "    <tr>\n",
       "      <th>4</th>\n",
       "      <td>27 Lynne lights, Oliviamouth, W7A 9GT</td>\n",
       "      <td>27LYNNELIGHTSOLIVIAMOUTHW7A9GT</td>\n",
       "      <td>27 Lynne lights, Oliviamouth, W7A 9GT</td>\n",
       "      <td>27LYNNELIGHTSOLIVIAMOUTHW7A9GT</td>\n",
       "    </tr>\n",
       "  </tbody>\n",
       "</table>\n",
       "</div>"
      ],
      "text/plain": [
       "                                    address                     clean_address   \n",
       "0  1 Vanessa square, North Owenbury, B0 9UZ  1VANESSASQUARENORTHOWENBURYB09UZ  \\\n",
       "1       2 Stephen parkway, Shawbury, W1 8YB      2STEPHENPARKWAYSHAWBURYW18YB   \n",
       "2     475 Smith flats, Hawkinstown, E0F 7RG    475SMITHFLATSHAWKINSTOWNE0F7RG   \n",
       "3      721 Gareth burg, Jamiehaven, M70 4BG     721GARETHBURGJAMIEHAVENM704BG   \n",
       "4     27 Lynne lights, Oliviamouth, W7A 9GT    27LYNNELIGHTSOLIVIAMOUTHW7A9GT   \n",
       "\n",
       "                                  address_2                   clean_address_2  \n",
       "0  1 vanessa square, north owenbury, b0 9uz  1VANESSASQUARENORTHOWENBURYB09UZ  \n",
       "1       2 Stephen parkway, Shawbury, W1 8YB      2STEPHENPARKWAYSHAWBURYW18YB  \n",
       "2     475 Smith flats, Hawkinstown, E0F 7RG    475SMITHFLATSHAWKINSTOWNE0F7RG  \n",
       "3      721 Gareth burg, Jamiehaven, M70 4BG     721GARETHBURGJAMIEHAVENM704BG  \n",
       "4     27 Lynne lights, Oliviamouth, W7A 9GT    27LYNNELIGHTSOLIVIAMOUTHW7A9GT  "
      ]
     },
     "execution_count": 12,
     "metadata": {},
     "output_type": "execute_result"
    }
   ],
   "source": [
    "df_merged_cleaned = df.merge(df_2, left_on='clean_address', \n",
    "                             right_on='clean_address_2', how='left')\n",
    "\n",
    "df_merged_cleaned.head()"
   ]
  },
  {
   "attachments": {},
   "cell_type": "markdown",
   "metadata": {},
   "source": [
    "Summing the matched addresses, we get the following:"
   ]
  },
  {
   "cell_type": "code",
   "execution_count": 13,
   "metadata": {},
   "outputs": [
    {
     "data": {
      "text/plain": [
       "17"
      ]
     },
     "execution_count": 13,
     "metadata": {},
     "output_type": "execute_result"
    }
   ],
   "source": [
    "df_merged_cleaned['clean_address_2'].notna().sum()"
   ]
  },
  {
   "attachments": {},
   "cell_type": "markdown",
   "metadata": {},
   "source": [
    "So, from carrying out some preprocessing steps, we take our matches from __9__ to __17__ of the __25__ addresses.\n",
    "\n",
    "Let us have a look at the remaining __8__:"
   ]
  },
  {
   "cell_type": "code",
   "execution_count": 14,
   "metadata": {},
   "outputs": [
    {
     "data": {
      "text/html": [
       "<div>\n",
       "<style scoped>\n",
       "    .dataframe tbody tr th:only-of-type {\n",
       "        vertical-align: middle;\n",
       "    }\n",
       "\n",
       "    .dataframe tbody tr th {\n",
       "        vertical-align: top;\n",
       "    }\n",
       "\n",
       "    .dataframe thead th {\n",
       "        text-align: right;\n",
       "    }\n",
       "</style>\n",
       "<table border=\"1\" class=\"dataframe\">\n",
       "  <thead>\n",
       "    <tr style=\"text-align: right;\">\n",
       "      <th></th>\n",
       "      <th>address</th>\n",
       "      <th>clean_address</th>\n",
       "      <th>address_2</th>\n",
       "      <th>clean_address_2</th>\n",
       "    </tr>\n",
       "  </thead>\n",
       "  <tbody>\n",
       "    <tr>\n",
       "      <th>5</th>\n",
       "      <td>Flat 12A, Hilton pines, Port Daniellefurt, EN3...</td>\n",
       "      <td>FLAT12AHILTONPINESPORTDANIELLEFURTEN3N2YL</td>\n",
       "      <td>NaN</td>\n",
       "      <td>NaN</td>\n",
       "    </tr>\n",
       "    <tr>\n",
       "      <th>6</th>\n",
       "      <td>Studio 1, Hannah forest, West Ianbury, E5E 1YL</td>\n",
       "      <td>STUDIO1HANNAHFORESTWESTIANBURYE5E1YL</td>\n",
       "      <td>NaN</td>\n",
       "      <td>NaN</td>\n",
       "    </tr>\n",
       "    <tr>\n",
       "      <th>7</th>\n",
       "      <td>Flat 16, Geraldine mount, Port Rebecca, S29 4BQ</td>\n",
       "      <td>FLAT16GERALDINEMOUNTPORTREBECCAS294BQ</td>\n",
       "      <td>NaN</td>\n",
       "      <td>NaN</td>\n",
       "    </tr>\n",
       "    <tr>\n",
       "      <th>11</th>\n",
       "      <td>Studio 7, Joanne road, Frasershire, SA9 3GW</td>\n",
       "      <td>STUDIO7JOANNEROADFRASERSHIRESA93GW</td>\n",
       "      <td>NaN</td>\n",
       "      <td>NaN</td>\n",
       "    </tr>\n",
       "    <tr>\n",
       "      <th>15</th>\n",
       "      <td>095 Ben neck, Richardsonberg, E2J 2WW</td>\n",
       "      <td>095BENNECKRICHARDSONBERGE2J2WW</td>\n",
       "      <td>NaN</td>\n",
       "      <td>NaN</td>\n",
       "    </tr>\n",
       "    <tr>\n",
       "      <th>16</th>\n",
       "      <td>Flat 89, Thomas cliff, Sianchester, E5 9HQ</td>\n",
       "      <td>FLAT89THOMASCLIFFSIANCHESTERE59HQ</td>\n",
       "      <td>NaN</td>\n",
       "      <td>NaN</td>\n",
       "    </tr>\n",
       "    <tr>\n",
       "      <th>20</th>\n",
       "      <td>Flat 08, Smith mills, Clivestad, PE6V 9YU</td>\n",
       "      <td>FLAT08SMITHMILLSCLIVESTADPE6V9YU</td>\n",
       "      <td>NaN</td>\n",
       "      <td>NaN</td>\n",
       "    </tr>\n",
       "    <tr>\n",
       "      <th>24</th>\n",
       "      <td>Studio 92y, Bailey ranch, Geraldinemouth, L2W 9TZ</td>\n",
       "      <td>STUDIO92YBAILEYRANCHGERALDINEMOUTHL2W9TZ</td>\n",
       "      <td>NaN</td>\n",
       "      <td>NaN</td>\n",
       "    </tr>\n",
       "  </tbody>\n",
       "</table>\n",
       "</div>"
      ],
      "text/plain": [
       "                                              address   \n",
       "5   Flat 12A, Hilton pines, Port Daniellefurt, EN3...  \\\n",
       "6      Studio 1, Hannah forest, West Ianbury, E5E 1YL   \n",
       "7     Flat 16, Geraldine mount, Port Rebecca, S29 4BQ   \n",
       "11        Studio 7, Joanne road, Frasershire, SA9 3GW   \n",
       "15              095 Ben neck, Richardsonberg, E2J 2WW   \n",
       "16         Flat 89, Thomas cliff, Sianchester, E5 9HQ   \n",
       "20          Flat 08, Smith mills, Clivestad, PE6V 9YU   \n",
       "24  Studio 92y, Bailey ranch, Geraldinemouth, L2W 9TZ   \n",
       "\n",
       "                                clean_address address_2 clean_address_2  \n",
       "5   FLAT12AHILTONPINESPORTDANIELLEFURTEN3N2YL       NaN             NaN  \n",
       "6        STUDIO1HANNAHFORESTWESTIANBURYE5E1YL       NaN             NaN  \n",
       "7       FLAT16GERALDINEMOUNTPORTREBECCAS294BQ       NaN             NaN  \n",
       "11         STUDIO7JOANNEROADFRASERSHIRESA93GW       NaN             NaN  \n",
       "15             095BENNECKRICHARDSONBERGE2J2WW       NaN             NaN  \n",
       "16          FLAT89THOMASCLIFFSIANCHESTERE59HQ       NaN             NaN  \n",
       "20           FLAT08SMITHMILLSCLIVESTADPE6V9YU       NaN             NaN  \n",
       "24   STUDIO92YBAILEYRANCHGERALDINEMOUTHL2W9TZ       NaN             NaN  "
      ]
     },
     "execution_count": 14,
     "metadata": {},
     "output_type": "execute_result"
    }
   ],
   "source": [
    "df_remaining = df_merged_cleaned[df_merged_cleaned['address_2'].isna()]\n",
    "\n",
    "df_remaining"
   ]
  },
  {
   "attachments": {},
   "cell_type": "markdown",
   "metadata": {},
   "source": [
    "To try and match these remaining addresses,\n",
    "we will investigate the _difflib_ module to find potential close matches."
   ]
  },
  {
   "cell_type": "code",
   "execution_count": 15,
   "metadata": {},
   "outputs": [],
   "source": [
    "# searching for close matches in the second dataframe\n",
    "# n=1 returns for the closest match\n",
    "# 0.6 is the default cut off where the suggested similarities are at least that similar\n",
    "close_matches = df_remaining['address'].apply(lambda x: difflib\\\n",
    "                                              .get_close_matches(x, df_2['address_2'], n=1, cutoff=0.6)[0])"
   ]
  },
  {
   "cell_type": "code",
   "execution_count": 16,
   "metadata": {},
   "outputs": [
    {
     "data": {
      "text/html": [
       "<div>\n",
       "<style scoped>\n",
       "    .dataframe tbody tr th:only-of-type {\n",
       "        vertical-align: middle;\n",
       "    }\n",
       "\n",
       "    .dataframe tbody tr th {\n",
       "        vertical-align: top;\n",
       "    }\n",
       "\n",
       "    .dataframe thead th {\n",
       "        text-align: right;\n",
       "    }\n",
       "</style>\n",
       "<table border=\"1\" class=\"dataframe\">\n",
       "  <thead>\n",
       "    <tr style=\"text-align: right;\">\n",
       "      <th></th>\n",
       "      <th>original_address</th>\n",
       "      <th>close_match</th>\n",
       "    </tr>\n",
       "  </thead>\n",
       "  <tbody>\n",
       "    <tr>\n",
       "      <th>5</th>\n",
       "      <td>Flat 12A, Hilton pines, Port Daniellefurt, EN3...</td>\n",
       "      <td>Flat 12 Hilton pines, Port Daniellefurt, EN3N 2YL</td>\n",
       "    </tr>\n",
       "    <tr>\n",
       "      <th>6</th>\n",
       "      <td>Studio 1, Hannah forest, West Ianbury, E5E 1YL</td>\n",
       "      <td>Flat 1, Hannah forest, West Ianbury, E5E 1YL</td>\n",
       "    </tr>\n",
       "    <tr>\n",
       "      <th>7</th>\n",
       "      <td>Flat 16, Geraldine mount, Port Rebecca, S29 4BQ</td>\n",
       "      <td>Geraldine mount, Flat 16, Port Rebecca, S29 4BQ</td>\n",
       "    </tr>\n",
       "    <tr>\n",
       "      <th>11</th>\n",
       "      <td>Studio 7, Joanne road, Frasershire, SA9 3GW</td>\n",
       "      <td>7 Joanne road Frasershire SA9 3GW</td>\n",
       "    </tr>\n",
       "    <tr>\n",
       "      <th>15</th>\n",
       "      <td>095 Ben neck, Richardsonberg, E2J 2WW</td>\n",
       "      <td>95 Ben neck, Richardsonberg, E2J2WW</td>\n",
       "    </tr>\n",
       "    <tr>\n",
       "      <th>16</th>\n",
       "      <td>Flat 89, Thomas cliff, Sianchester, E5 9HQ</td>\n",
       "      <td>89 Thomas cliff Sianchester E5 9HQ</td>\n",
       "    </tr>\n",
       "    <tr>\n",
       "      <th>20</th>\n",
       "      <td>Flat 08, Smith mills, Clivestad, PE6V 9YU</td>\n",
       "      <td>flat 8, smith mills, clivestad, pe6v9yu</td>\n",
       "    </tr>\n",
       "    <tr>\n",
       "      <th>24</th>\n",
       "      <td>Studio 92y, Bailey ranch, Geraldinemouth, L2W 9TZ</td>\n",
       "      <td>Studio 92, Bailey ranch, Geraldinemouth, L2W 9TZ</td>\n",
       "    </tr>\n",
       "  </tbody>\n",
       "</table>\n",
       "</div>"
      ],
      "text/plain": [
       "                                     original_address   \n",
       "5   Flat 12A, Hilton pines, Port Daniellefurt, EN3...  \\\n",
       "6      Studio 1, Hannah forest, West Ianbury, E5E 1YL   \n",
       "7     Flat 16, Geraldine mount, Port Rebecca, S29 4BQ   \n",
       "11        Studio 7, Joanne road, Frasershire, SA9 3GW   \n",
       "15              095 Ben neck, Richardsonberg, E2J 2WW   \n",
       "16         Flat 89, Thomas cliff, Sianchester, E5 9HQ   \n",
       "20          Flat 08, Smith mills, Clivestad, PE6V 9YU   \n",
       "24  Studio 92y, Bailey ranch, Geraldinemouth, L2W 9TZ   \n",
       "\n",
       "                                          close_match  \n",
       "5   Flat 12 Hilton pines, Port Daniellefurt, EN3N 2YL  \n",
       "6        Flat 1, Hannah forest, West Ianbury, E5E 1YL  \n",
       "7     Geraldine mount, Flat 16, Port Rebecca, S29 4BQ  \n",
       "11                  7 Joanne road Frasershire SA9 3GW  \n",
       "15                95 Ben neck, Richardsonberg, E2J2WW  \n",
       "16                 89 Thomas cliff Sianchester E5 9HQ  \n",
       "20            flat 8, smith mills, clivestad, pe6v9yu  \n",
       "24   Studio 92, Bailey ranch, Geraldinemouth, L2W 9TZ  "
      ]
     },
     "execution_count": 16,
     "metadata": {},
     "output_type": "execute_result"
    }
   ],
   "source": [
    "# creating dataframe to see the close matches\n",
    "df_close_match = pd.DataFrame({'original_address': df_remaining['address'],\n",
    "                               'close_match': close_matches})\n",
    "\n",
    "df_close_match"
   ]
  },
  {
   "attachments": {},
   "cell_type": "markdown",
   "metadata": {},
   "source": [
    "This method has found all of the additional addresses that were not matched directly.\n",
    "\n",
    "This step does involve some manually checking to ensure it has matched the correct \n",
    "addresses but it a __very__ helpful tool to guide you to the closest match!"
   ]
  }
 ],
 "metadata": {
  "kernelspec": {
   "display_name": "base",
   "language": "python",
   "name": "python3"
  },
  "language_info": {
   "codemirror_mode": {
    "name": "ipython",
    "version": 3
   },
   "file_extension": ".py",
   "mimetype": "text/x-python",
   "name": "python",
   "nbconvert_exporter": "python",
   "pygments_lexer": "ipython3",
   "version": "3.10.9"
  },
  "orig_nbformat": 4
 },
 "nbformat": 4,
 "nbformat_minor": 2
}
